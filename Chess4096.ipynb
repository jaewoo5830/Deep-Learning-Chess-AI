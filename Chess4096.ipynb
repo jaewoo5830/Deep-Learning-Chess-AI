{
 "cells": [
  {
   "cell_type": "code",
   "execution_count": 1,
   "metadata": {
    "ExecuteTime": {
     "end_time": "2021-02-12T02:26:59.146115Z",
     "start_time": "2021-02-12T02:26:59.132162Z"
    }
   },
   "outputs": [
    {
     "ename": "FileNotFoundError",
     "evalue": "[WinError 3] The system cannot find the path specified: 'C:\\\\Users\\\\v_sim\\\\Desktop\\\\Files\\\\Data'",
     "output_type": "error",
     "traceback": [
      "\u001b[1;31m---------------------------------------------------------------------------\u001b[0m",
      "\u001b[1;31mFileNotFoundError\u001b[0m                         Traceback (most recent call last)",
      "\u001b[1;32m<ipython-input-1-10ad1846fe90>\u001b[0m in \u001b[0;36m<module>\u001b[1;34m\u001b[0m\n\u001b[0;32m      1\u001b[0m \u001b[1;32mimport\u001b[0m \u001b[0mos\u001b[0m\u001b[1;33m\u001b[0m\u001b[1;33m\u001b[0m\u001b[0m\n\u001b[0;32m      2\u001b[0m \u001b[0mos\u001b[0m\u001b[1;33m.\u001b[0m\u001b[0mgetcwd\u001b[0m\u001b[1;33m(\u001b[0m\u001b[1;33m)\u001b[0m\u001b[1;33m\u001b[0m\u001b[1;33m\u001b[0m\u001b[0m\n\u001b[1;32m----> 3\u001b[1;33m \u001b[0mos\u001b[0m\u001b[1;33m.\u001b[0m\u001b[0mchdir\u001b[0m\u001b[1;33m(\u001b[0m\u001b[1;34m'C:\\\\Users\\\\v_sim\\\\Desktop\\\\Files\\\\Data'\u001b[0m\u001b[1;33m)\u001b[0m\u001b[1;33m\u001b[0m\u001b[1;33m\u001b[0m\u001b[0m\n\u001b[0m",
      "\u001b[1;31mFileNotFoundError\u001b[0m: [WinError 3] The system cannot find the path specified: 'C:\\\\Users\\\\v_sim\\\\Desktop\\\\Files\\\\Data'"
     ]
    }
   ],
   "source": [
    "import os\n",
    "os.getcwd()\n",
    "os.chdir('C:\\\\Users\\\\v_sim\\\\Desktop\\\\Files\\\\Data')"
   ]
  },
  {
   "cell_type": "code",
   "execution_count": 43,
   "metadata": {
    "ExecuteTime": {
     "end_time": "2021-02-12T02:27:00.968971Z",
     "start_time": "2021-02-12T02:27:00.091712Z"
    }
   },
   "outputs": [
    {
     "data": {
      "text/plain": [
       "100"
      ]
     },
     "execution_count": 43,
     "metadata": {},
     "output_type": "execute_result"
    }
   ],
   "source": [
    "import chess.pgn\n",
    "pgn = open(\"Carlsen.pgn\")\n",
    "sides = []\n",
    "games = []\n",
    "length = 100\n",
    "for i in range(length):\n",
    "    try:\n",
    "        if chess.pgn.read_game(pgn).mainline_moves():\n",
    "            games.append(chess.pgn.read_game(pgn).mainline_moves())\n",
    "            sides.append(chess.pgn.read_game(pgn).headers[\"White\"])\n",
    "    except:\n",
    "        pass\n",
    "len(games)"
   ]
  },
  {
   "cell_type": "code",
   "execution_count": 44,
   "metadata": {
    "ExecuteTime": {
     "end_time": "2021-02-12T02:27:01.681409Z",
     "start_time": "2021-02-12T02:27:00.970916Z"
    }
   },
   "outputs": [],
   "source": [
    "X = []\n",
    "y = []\n",
    "counter2 = 0\n",
    "for game in games:\n",
    "    board = chess.Board()\n",
    "    white = sides[counter2]\n",
    "    if white == 'Carlsen,Magnus':\n",
    "        remainder = 0\n",
    "    else:\n",
    "        remainder = 1\n",
    "    counter = 0\n",
    "    for move in game:\n",
    "        if counter % 2 == remainder:\n",
    "            X.append(board.copy())\n",
    "            y.append(move)\n",
    "        board.push(move)\n",
    "        counter += 1\n",
    "    counter2 += 1"
   ]
  },
  {
   "cell_type": "code",
   "execution_count": 45,
   "metadata": {
    "ExecuteTime": {
     "end_time": "2021-02-12T02:27:01.699357Z",
     "start_time": "2021-02-12T02:27:01.683406Z"
    }
   },
   "outputs": [],
   "source": [
    "chess_dict = {\n",
    "    'p' : [1,0,0,0,0,0,0,0,0,0,0,0,0],\n",
    "    'P' : [0,0,0,0,0,0,1,0,0,0,0,0,0],\n",
    "    'n' : [0,1,0,0,0,0,0,0,0,0,0,0,0],\n",
    "    'N' : [0,0,0,0,0,0,0,1,0,0,0,0,0],\n",
    "    'b' : [0,0,1,0,0,0,0,0,0,0,0,0,0],\n",
    "    'B' : [0,0,0,0,0,0,0,0,1,0,0,0,0],\n",
    "    'r' : [0,0,0,1,0,0,0,0,0,0,0,0,0],\n",
    "    'R' : [0,0,0,0,0,0,0,0,0,1,0,0,0],\n",
    "    'q' : [0,0,0,0,1,0,0,0,0,0,0,0,0],\n",
    "    'Q' : [0,0,0,0,0,0,0,0,0,0,1,0,0],\n",
    "    'k' : [0,0,0,0,0,1,0,0,0,0,0,0,0],\n",
    "    'K' : [0,0,0,0,0,0,0,0,0,0,0,1,0],\n",
    "    '.' : [0,0,0,0,0,0,0,0,0,0,0,0,1],\n",
    "}\n",
    "\n",
    "def make_matrix(board): \n",
    "    pgn = board.epd()\n",
    "    foo = []  \n",
    "    pieces = pgn.split(\" \", 1)[0]\n",
    "    rows = pieces.split(\"/\")\n",
    "    for row in rows:\n",
    "        foo2 = []  \n",
    "        for thing in row:\n",
    "            if thing.isdigit():\n",
    "                for i in range(0, int(thing)):\n",
    "                    foo2.append('.')\n",
    "            else:\n",
    "                foo2.append(thing)\n",
    "        foo.append(foo2)\n",
    "    return foo\n",
    "\n",
    "def translate(matrix,chess_dict):\n",
    "    rows = []\n",
    "    for row in matrix:\n",
    "        terms = []\n",
    "        for term in row:\n",
    "            terms.append(chess_dict[term])\n",
    "        rows.append(terms)\n",
    "    return rows"
   ]
  },
  {
   "cell_type": "code",
   "execution_count": 46,
   "metadata": {
    "ExecuteTime": {
     "end_time": "2021-02-12T02:27:01.715362Z",
     "start_time": "2021-02-12T02:27:01.701351Z"
    }
   },
   "outputs": [],
   "source": [
    "new_chess_dict = {}\n",
    "for term in chess_dict:\n",
    "    definition = tuple(chess_dict[term])\n",
    "    new_chess_dict[definition] = term\n",
    "    new_chess_dict[term] = definition"
   ]
  },
  {
   "cell_type": "code",
   "execution_count": 47,
   "metadata": {
    "ExecuteTime": {
     "end_time": "2021-02-12T02:27:02.423518Z",
     "start_time": "2021-02-12T02:27:02.052379Z"
    }
   },
   "outputs": [],
   "source": [
    "import numpy as np\n",
    "for i in range(len(X)):\n",
    "    X[i] = translate(make_matrix(X[i]),chess_dict)"
   ]
  },
  {
   "cell_type": "code",
   "execution_count": 48,
   "metadata": {
    "ExecuteTime": {
     "end_time": "2021-02-12T02:27:02.672155Z",
     "start_time": "2021-02-12T02:27:02.653214Z"
    }
   },
   "outputs": [],
   "source": [
    "def move2array(move):\n",
    "    from_square = move.from_square\n",
    "    to_square = move.to_square\n",
    "    array = np.zeros((64,64))\n",
    "    array[from_square,to_square] = 1\n",
    "    return array\n",
    "\n",
    "def array2move(array):\n",
    "    from_square = chess.SQUARE_NAMES[int(np.where(array == 1)[0])]\n",
    "    to_square = chess.SQUARE_NAMES[int(np.where(array == 1)[1])]\n",
    "    move = chess.Move.from_uci(from_square+to_square)\n",
    "    return move\n",
    "    \n",
    "array = move2array(y[0]).reshape(64,64)"
   ]
  },
  {
   "cell_type": "code",
   "execution_count": 49,
   "metadata": {
    "ExecuteTime": {
     "end_time": "2021-02-12T02:27:03.907311Z",
     "start_time": "2021-02-12T02:27:03.832437Z"
    }
   },
   "outputs": [],
   "source": [
    "for i in range(len(y)):\n",
    "    y[i] = move2array(y[i]).reshape(64,64)"
   ]
  },
  {
   "cell_type": "code",
   "execution_count": 50,
   "metadata": {
    "ExecuteTime": {
     "end_time": "2021-02-12T02:27:05.182637Z",
     "start_time": "2021-02-12T02:27:04.741649Z"
    }
   },
   "outputs": [],
   "source": [
    "X = np.array(X)\n",
    "y = np.array(y)"
   ]
  },
  {
   "cell_type": "code",
   "execution_count": 51,
   "metadata": {
    "ExecuteTime": {
     "end_time": "2021-02-12T02:27:05.526689Z",
     "start_time": "2021-02-12T02:27:05.501676Z"
    }
   },
   "outputs": [
    {
     "data": {
      "text/plain": [
       "((3810, 8, 8, 13), (3810, 64, 64))"
      ]
     },
     "execution_count": 51,
     "metadata": {},
     "output_type": "execute_result"
    }
   ],
   "source": [
    "X.shape,y.shape"
   ]
  },
  {
   "cell_type": "code",
   "execution_count": 55,
   "metadata": {
    "ExecuteTime": {
     "end_time": "2021-02-12T02:27:25.062676Z",
     "start_time": "2021-02-12T02:27:24.763478Z"
    }
   },
   "outputs": [],
   "source": [
    "from keras.models import Sequential\n",
    "from keras.layers import Dense,BatchNormalization,Dropout,Reshape,Flatten\n",
    "\n",
    "model = Sequential()\n",
    "model.add(Dense(32,input_shape = (8,8,13)))\n",
    "model.add(Dense(64))\n",
    "model.add(Dense(128))\n",
    "model.add(Flatten())\n",
    "model.add(Dense(4096,activation = 'softmax'))\n",
    "model.add(Reshape((64,64)))\n",
    "\n",
    "model.compile(optimizer = 'adam',loss = 'mse')"
   ]
  },
  {
   "cell_type": "code",
   "execution_count": 56,
   "metadata": {
    "ExecuteTime": {
     "end_time": "2021-02-12T02:27:38.901074Z",
     "start_time": "2021-02-12T02:27:25.471795Z"
    }
   },
   "outputs": [
    {
     "name": "stdout",
     "output_type": "stream",
     "text": [
      "120/120 [==============================] - 13s 106ms/step - loss: 2.4408e-04\n"
     ]
    },
    {
     "data": {
      "text/plain": [
       "<tensorflow.python.keras.callbacks.History at 0x273b0c351f0>"
      ]
     },
     "execution_count": 56,
     "metadata": {},
     "output_type": "execute_result"
    }
   ],
   "source": [
    "model.fit(X,y)"
   ]
  },
  {
   "cell_type": "code",
   "execution_count": 61,
   "metadata": {
    "ExecuteTime": {
     "end_time": "2021-02-12T08:48:05.768682Z",
     "start_time": "2021-02-12T08:47:51.950202Z"
    }
   },
   "outputs": [
    {
     "name": "stdout",
     "output_type": "stream",
     "text": [
      "Requirement already satisfied: python-chess in c:\\users\\v_sim\\miniconda3\\lib\\site-packages (0.31.4)Note: you may need to restart the kernel to use updated packages.\n",
      "\n"
     ]
    }
   ],
   "source": [
    "pip install python-chess"
   ]
  },
  {
   "cell_type": "code",
   "execution_count": null,
   "metadata": {},
   "outputs": [],
   "source": []
  }
 ],
 "metadata": {
  "kernelspec": {
   "display_name": "Python 3",
   "language": "python",
   "name": "python3"
  },
  "language_info": {
   "codemirror_mode": {
    "name": "ipython",
    "version": 3
   },
   "file_extension": ".py",
   "mimetype": "text/x-python",
   "name": "python",
   "nbconvert_exporter": "python",
   "pygments_lexer": "ipython3",
   "version": "3.8.5"
  }
 },
 "nbformat": 4,
 "nbformat_minor": 4
}
